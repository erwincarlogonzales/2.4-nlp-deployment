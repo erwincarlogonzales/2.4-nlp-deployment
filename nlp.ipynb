{
 "cells": [
  {
   "cell_type": "markdown",
   "metadata": {},
   "source": [
    "*This project has a large file size*\n",
    "\n",
    "Follow these instructions to use LFS on GitHub\n",
    "1. git lfs install\n",
    "2. git lfs track 'data/yelp-reviews.csv'\n",
    "3. git add .gitattributes\n",
    "4. git add data/yelp-reviews.csv\n",
    "5. git commit -m \"Adding Large File Support\"\n",
    "6. git push origin main"
   ]
  },
  {
   "cell_type": "code",
   "execution_count": 2,
   "metadata": {},
   "outputs": [
    {
     "name": "stderr",
     "output_type": "stream",
     "text": [
      "[nltk_data] Downloading package punkt to\n",
      "[nltk_data]     C:\\Users\\erwin\\AppData\\Roaming\\nltk_data...\n",
      "[nltk_data]   Package punkt is already up-to-date!\n",
      "[nltk_data] Downloading package stopwords to\n",
      "[nltk_data]     C:\\Users\\erwin\\AppData\\Roaming\\nltk_data...\n",
      "[nltk_data]   Package stopwords is already up-to-date!\n",
      "[nltk_data] Downloading package wordnet to\n",
      "[nltk_data]     C:\\Users\\erwin\\AppData\\Roaming\\nltk_data...\n",
      "[nltk_data]   Package wordnet is already up-to-date!\n"
     ]
    },
    {
     "data": {
      "text/plain": [
       "True"
      ]
     },
     "execution_count": 2,
     "metadata": {},
     "output_type": "execute_result"
    }
   ],
   "source": [
    "import nltk\n",
    "# nltk.download('punkt')\n",
    "# nltk.download('stopwords')\n",
    "# nltk.download('wordnet')"
   ]
  },
  {
   "cell_type": "markdown",
   "metadata": {},
   "source": [
    "### **Load Data**"
   ]
  },
  {
   "cell_type": "code",
   "execution_count": 1,
   "metadata": {},
   "outputs": [
    {
     "data": {
      "text/html": [
       "<div>\n",
       "<style scoped>\n",
       "    .dataframe tbody tr th:only-of-type {\n",
       "        vertical-align: middle;\n",
       "    }\n",
       "\n",
       "    .dataframe tbody tr th {\n",
       "        vertical-align: top;\n",
       "    }\n",
       "\n",
       "    .dataframe thead th {\n",
       "        text-align: right;\n",
       "    }\n",
       "</style>\n",
       "<table border=\"1\" class=\"dataframe\">\n",
       "  <thead>\n",
       "    <tr style=\"text-align: right;\">\n",
       "      <th></th>\n",
       "      <th>business_id</th>\n",
       "      <th>review_id</th>\n",
       "      <th>date</th>\n",
       "      <th>text</th>\n",
       "      <th>stars</th>\n",
       "      <th>language</th>\n",
       "    </tr>\n",
       "  </thead>\n",
       "  <tbody>\n",
       "    <tr>\n",
       "      <th>0</th>\n",
       "      <td>gGaF0TtGRx1QOFe0EzuZLg</td>\n",
       "      <td>8W3g9ykr8aGGZMMdVbNPKA</td>\n",
       "      <td>2015-01-01 00:01:02</td>\n",
       "      <td>Lynn and Montecito flowers are simply the best...</td>\n",
       "      <td>5</td>\n",
       "      <td>en</td>\n",
       "    </tr>\n",
       "    <tr>\n",
       "      <th>1</th>\n",
       "      <td>2CqQ3Tnvj7h0rw84WEEjMw</td>\n",
       "      <td>q10HcbeBRtcvsN7WC02fFw</td>\n",
       "      <td>2015-01-01 00:15:12</td>\n",
       "      <td>Love this place! Always loved the food as they...</td>\n",
       "      <td>5</td>\n",
       "      <td>en</td>\n",
       "    </tr>\n",
       "    <tr>\n",
       "      <th>2</th>\n",
       "      <td>lOa1BVmTcbPpu05h3OPAQA</td>\n",
       "      <td>dXOY5UqXhcCQ6f9S-kRc2w</td>\n",
       "      <td>2015-01-01 00:19:36</td>\n",
       "      <td>We stayed here last weekend with our dog. Its ...</td>\n",
       "      <td>5</td>\n",
       "      <td>en</td>\n",
       "    </tr>\n",
       "    <tr>\n",
       "      <th>3</th>\n",
       "      <td>QFh-h_OZ5Io-mBk32HN28A</td>\n",
       "      <td>8mWVoTXecEkRXTvPONYFuw</td>\n",
       "      <td>2015-01-01 00:20:23</td>\n",
       "      <td>Came here for a quick bite and got the thai sa...</td>\n",
       "      <td>2</td>\n",
       "      <td>en</td>\n",
       "    </tr>\n",
       "    <tr>\n",
       "      <th>4</th>\n",
       "      <td>cAbdvzqtFLaAAMFIyPf2AA</td>\n",
       "      <td>Xr5KEchLr-jvQiAZm1mtNA</td>\n",
       "      <td>2015-01-01 00:47:19</td>\n",
       "      <td>Finally was able to try lunch at Holdren's.  M...</td>\n",
       "      <td>2</td>\n",
       "      <td>en</td>\n",
       "    </tr>\n",
       "  </tbody>\n",
       "</table>\n",
       "</div>"
      ],
      "text/plain": [
       "              business_id               review_id                 date  \\\n",
       "0  gGaF0TtGRx1QOFe0EzuZLg  8W3g9ykr8aGGZMMdVbNPKA  2015-01-01 00:01:02   \n",
       "1  2CqQ3Tnvj7h0rw84WEEjMw  q10HcbeBRtcvsN7WC02fFw  2015-01-01 00:15:12   \n",
       "2  lOa1BVmTcbPpu05h3OPAQA  dXOY5UqXhcCQ6f9S-kRc2w  2015-01-01 00:19:36   \n",
       "3  QFh-h_OZ5Io-mBk32HN28A  8mWVoTXecEkRXTvPONYFuw  2015-01-01 00:20:23   \n",
       "4  cAbdvzqtFLaAAMFIyPf2AA  Xr5KEchLr-jvQiAZm1mtNA  2015-01-01 00:47:19   \n",
       "\n",
       "                                                text  stars language  \n",
       "0  Lynn and Montecito flowers are simply the best...      5       en  \n",
       "1  Love this place! Always loved the food as they...      5       en  \n",
       "2  We stayed here last weekend with our dog. Its ...      5       en  \n",
       "3  Came here for a quick bite and got the thai sa...      2       en  \n",
       "4  Finally was able to try lunch at Holdren's.  M...      2       en  "
      ]
     },
     "execution_count": 1,
     "metadata": {},
     "output_type": "execute_result"
    }
   ],
   "source": [
    "import pandas as pd\n",
    "\n",
    "# Load the data\n",
    "def load_data(file_path):\n",
    "    df = pd.read_csv(file_path)\n",
    "    \n",
    "    return df\n",
    "\n",
    "file_path = 'data/yelp-reviews.csv'\n",
    "df = load_data(file_path)\n",
    "df.head()"
   ]
  },
  {
   "cell_type": "markdown",
   "metadata": {},
   "source": [
    "### **EDA**"
   ]
  },
  {
   "cell_type": "code",
   "execution_count": 8,
   "metadata": {},
   "outputs": [
    {
     "name": "stdout",
     "output_type": "stream",
     "text": [
      "Number of missing values:L business_id    0\n",
      "review_id      0\n",
      "date           0\n",
      "text           0\n",
      "stars          0\n",
      "language       0\n",
      "dtype: int64\n",
      "\n",
      "<class 'pandas.core.frame.DataFrame'>\n",
      "RangeIndex: 150374 entries, 0 to 150373\n",
      "Data columns (total 6 columns):\n",
      " #   Column       Non-Null Count   Dtype \n",
      "---  ------       --------------   ----- \n",
      " 0   business_id  150374 non-null  object\n",
      " 1   review_id    150374 non-null  object\n",
      " 2   date         150374 non-null  object\n",
      " 3   text         150374 non-null  object\n",
      " 4   stars        150374 non-null  int64 \n",
      " 5   language     150374 non-null  object\n",
      "dtypes: int64(1), object(5)\n",
      "memory usage: 6.9+ MB\n"
     ]
    }
   ],
   "source": [
    "# EDA\n",
    "def perform_eda(df):\n",
    "    missing_values = df.isna().sum()\n",
    "    \n",
    "    print(f'Number of missing values:L {missing_values}\\n')\n",
    "    \n",
    "perform_eda(df)\n",
    "df.info()"
   ]
  },
  {
   "cell_type": "code",
   "execution_count": 9,
   "metadata": {},
   "outputs": [
    {
     "name": "stdout",
     "output_type": "stream",
     "text": [
      "Summary Statistics\n"
     ]
    },
    {
     "data": {
      "text/html": [
       "<div>\n",
       "<style scoped>\n",
       "    .dataframe tbody tr th:only-of-type {\n",
       "        vertical-align: middle;\n",
       "    }\n",
       "\n",
       "    .dataframe tbody tr th {\n",
       "        vertical-align: top;\n",
       "    }\n",
       "\n",
       "    .dataframe thead th {\n",
       "        text-align: right;\n",
       "    }\n",
       "</style>\n",
       "<table border=\"1\" class=\"dataframe\">\n",
       "  <thead>\n",
       "    <tr style=\"text-align: right;\">\n",
       "      <th></th>\n",
       "      <th>count</th>\n",
       "      <th>mean</th>\n",
       "      <th>std</th>\n",
       "      <th>min</th>\n",
       "      <th>25%</th>\n",
       "      <th>50%</th>\n",
       "      <th>75%</th>\n",
       "      <th>max</th>\n",
       "    </tr>\n",
       "  </thead>\n",
       "  <tbody>\n",
       "    <tr>\n",
       "      <th>stars</th>\n",
       "      <td>150374.0</td>\n",
       "      <td>4.006045</td>\n",
       "      <td>1.415824</td>\n",
       "      <td>1.0</td>\n",
       "      <td>3.0</td>\n",
       "      <td>5.0</td>\n",
       "      <td>5.0</td>\n",
       "      <td>5.0</td>\n",
       "    </tr>\n",
       "  </tbody>\n",
       "</table>\n",
       "</div>"
      ],
      "text/plain": [
       "          count      mean       std  min  25%  50%  75%  max\n",
       "stars  150374.0  4.006045  1.415824  1.0  3.0  5.0  5.0  5.0"
      ]
     },
     "execution_count": 9,
     "metadata": {},
     "output_type": "execute_result"
    }
   ],
   "source": [
    "# Summary Statistics\n",
    "statistics = df.describe().T\n",
    "print('Summary Statistics')\n",
    "statistics"
   ]
  },
  {
   "cell_type": "markdown",
   "metadata": {},
   "source": [
    "### **Data Visualization**"
   ]
  },
  {
   "cell_type": "markdown",
   "metadata": {},
   "source": [
    "### **Feature Engineering**"
   ]
  },
  {
   "cell_type": "markdown",
   "metadata": {},
   "source": [
    "### **Time Series Preprocessing**"
   ]
  },
  {
   "cell_type": "markdown",
   "metadata": {},
   "source": [
    "### **Time Series Analysis**"
   ]
  },
  {
   "cell_type": "markdown",
   "metadata": {},
   "source": [
    "### **VADER**"
   ]
  },
  {
   "cell_type": "markdown",
   "metadata": {},
   "source": [
    "### **Naive Bayes**"
   ]
  }
 ],
 "metadata": {
  "kernelspec": {
   "display_name": ".venv",
   "language": "python",
   "name": "python3"
  },
  "language_info": {
   "codemirror_mode": {
    "name": "ipython",
    "version": 3
   },
   "file_extension": ".py",
   "mimetype": "text/x-python",
   "name": "python",
   "nbconvert_exporter": "python",
   "pygments_lexer": "ipython3",
   "version": "3.11.5"
  }
 },
 "nbformat": 4,
 "nbformat_minor": 2
}
